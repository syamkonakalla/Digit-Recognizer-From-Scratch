{
 "cells": [
  {
   "cell_type": "code",
   "execution_count": 1,
   "id": "88b62174",
   "metadata": {},
   "outputs": [],
   "source": [
    "import pandas as pd\n",
    "import numpy as np\n",
    "from matplotlib import pyplot as plt"
   ]
  },
  {
   "cell_type": "code",
   "execution_count": 2,
   "id": "f064e499",
   "metadata": {},
   "outputs": [],
   "source": [
    "data=pd.read_csv(\"train.csv\")"
   ]
  },
  {
   "cell_type": "code",
   "execution_count": 3,
   "id": "eb7a512c",
   "metadata": {},
   "outputs": [
    {
     "data": {
      "text/html": [
       "<div>\n",
       "<style scoped>\n",
       "    .dataframe tbody tr th:only-of-type {\n",
       "        vertical-align: middle;\n",
       "    }\n",
       "\n",
       "    .dataframe tbody tr th {\n",
       "        vertical-align: top;\n",
       "    }\n",
       "\n",
       "    .dataframe thead th {\n",
       "        text-align: right;\n",
       "    }\n",
       "</style>\n",
       "<table border=\"1\" class=\"dataframe\">\n",
       "  <thead>\n",
       "    <tr style=\"text-align: right;\">\n",
       "      <th></th>\n",
       "      <th>label</th>\n",
       "      <th>pixel0</th>\n",
       "      <th>pixel1</th>\n",
       "      <th>pixel2</th>\n",
       "      <th>pixel3</th>\n",
       "      <th>pixel4</th>\n",
       "      <th>pixel5</th>\n",
       "      <th>pixel6</th>\n",
       "      <th>pixel7</th>\n",
       "      <th>pixel8</th>\n",
       "      <th>...</th>\n",
       "      <th>pixel774</th>\n",
       "      <th>pixel775</th>\n",
       "      <th>pixel776</th>\n",
       "      <th>pixel777</th>\n",
       "      <th>pixel778</th>\n",
       "      <th>pixel779</th>\n",
       "      <th>pixel780</th>\n",
       "      <th>pixel781</th>\n",
       "      <th>pixel782</th>\n",
       "      <th>pixel783</th>\n",
       "    </tr>\n",
       "  </thead>\n",
       "  <tbody>\n",
       "    <tr>\n",
       "      <th>0</th>\n",
       "      <td>1</td>\n",
       "      <td>0</td>\n",
       "      <td>0</td>\n",
       "      <td>0</td>\n",
       "      <td>0</td>\n",
       "      <td>0</td>\n",
       "      <td>0</td>\n",
       "      <td>0</td>\n",
       "      <td>0</td>\n",
       "      <td>0</td>\n",
       "      <td>...</td>\n",
       "      <td>0</td>\n",
       "      <td>0</td>\n",
       "      <td>0</td>\n",
       "      <td>0</td>\n",
       "      <td>0</td>\n",
       "      <td>0</td>\n",
       "      <td>0</td>\n",
       "      <td>0</td>\n",
       "      <td>0</td>\n",
       "      <td>0</td>\n",
       "    </tr>\n",
       "    <tr>\n",
       "      <th>1</th>\n",
       "      <td>0</td>\n",
       "      <td>0</td>\n",
       "      <td>0</td>\n",
       "      <td>0</td>\n",
       "      <td>0</td>\n",
       "      <td>0</td>\n",
       "      <td>0</td>\n",
       "      <td>0</td>\n",
       "      <td>0</td>\n",
       "      <td>0</td>\n",
       "      <td>...</td>\n",
       "      <td>0</td>\n",
       "      <td>0</td>\n",
       "      <td>0</td>\n",
       "      <td>0</td>\n",
       "      <td>0</td>\n",
       "      <td>0</td>\n",
       "      <td>0</td>\n",
       "      <td>0</td>\n",
       "      <td>0</td>\n",
       "      <td>0</td>\n",
       "    </tr>\n",
       "    <tr>\n",
       "      <th>2</th>\n",
       "      <td>1</td>\n",
       "      <td>0</td>\n",
       "      <td>0</td>\n",
       "      <td>0</td>\n",
       "      <td>0</td>\n",
       "      <td>0</td>\n",
       "      <td>0</td>\n",
       "      <td>0</td>\n",
       "      <td>0</td>\n",
       "      <td>0</td>\n",
       "      <td>...</td>\n",
       "      <td>0</td>\n",
       "      <td>0</td>\n",
       "      <td>0</td>\n",
       "      <td>0</td>\n",
       "      <td>0</td>\n",
       "      <td>0</td>\n",
       "      <td>0</td>\n",
       "      <td>0</td>\n",
       "      <td>0</td>\n",
       "      <td>0</td>\n",
       "    </tr>\n",
       "    <tr>\n",
       "      <th>3</th>\n",
       "      <td>4</td>\n",
       "      <td>0</td>\n",
       "      <td>0</td>\n",
       "      <td>0</td>\n",
       "      <td>0</td>\n",
       "      <td>0</td>\n",
       "      <td>0</td>\n",
       "      <td>0</td>\n",
       "      <td>0</td>\n",
       "      <td>0</td>\n",
       "      <td>...</td>\n",
       "      <td>0</td>\n",
       "      <td>0</td>\n",
       "      <td>0</td>\n",
       "      <td>0</td>\n",
       "      <td>0</td>\n",
       "      <td>0</td>\n",
       "      <td>0</td>\n",
       "      <td>0</td>\n",
       "      <td>0</td>\n",
       "      <td>0</td>\n",
       "    </tr>\n",
       "    <tr>\n",
       "      <th>4</th>\n",
       "      <td>0</td>\n",
       "      <td>0</td>\n",
       "      <td>0</td>\n",
       "      <td>0</td>\n",
       "      <td>0</td>\n",
       "      <td>0</td>\n",
       "      <td>0</td>\n",
       "      <td>0</td>\n",
       "      <td>0</td>\n",
       "      <td>0</td>\n",
       "      <td>...</td>\n",
       "      <td>0</td>\n",
       "      <td>0</td>\n",
       "      <td>0</td>\n",
       "      <td>0</td>\n",
       "      <td>0</td>\n",
       "      <td>0</td>\n",
       "      <td>0</td>\n",
       "      <td>0</td>\n",
       "      <td>0</td>\n",
       "      <td>0</td>\n",
       "    </tr>\n",
       "  </tbody>\n",
       "</table>\n",
       "<p>5 rows × 785 columns</p>\n",
       "</div>"
      ],
      "text/plain": [
       "   label  pixel0  pixel1  pixel2  pixel3  pixel4  pixel5  pixel6  pixel7  \\\n",
       "0      1       0       0       0       0       0       0       0       0   \n",
       "1      0       0       0       0       0       0       0       0       0   \n",
       "2      1       0       0       0       0       0       0       0       0   \n",
       "3      4       0       0       0       0       0       0       0       0   \n",
       "4      0       0       0       0       0       0       0       0       0   \n",
       "\n",
       "   pixel8  ...  pixel774  pixel775  pixel776  pixel777  pixel778  pixel779  \\\n",
       "0       0  ...         0         0         0         0         0         0   \n",
       "1       0  ...         0         0         0         0         0         0   \n",
       "2       0  ...         0         0         0         0         0         0   \n",
       "3       0  ...         0         0         0         0         0         0   \n",
       "4       0  ...         0         0         0         0         0         0   \n",
       "\n",
       "   pixel780  pixel781  pixel782  pixel783  \n",
       "0         0         0         0         0  \n",
       "1         0         0         0         0  \n",
       "2         0         0         0         0  \n",
       "3         0         0         0         0  \n",
       "4         0         0         0         0  \n",
       "\n",
       "[5 rows x 785 columns]"
      ]
     },
     "execution_count": 3,
     "metadata": {},
     "output_type": "execute_result"
    }
   ],
   "source": [
    "data.head()"
   ]
  },
  {
   "cell_type": "code",
   "execution_count": 4,
   "id": "d9cc8bdb",
   "metadata": {},
   "outputs": [
    {
     "name": "stdout",
     "output_type": "stream",
     "text": [
      "42000 785\n"
     ]
    }
   ],
   "source": [
    "data=np.array(data)\n",
    "m,n=data.shape\n",
    "print(m,n)"
   ]
  },
  {
   "cell_type": "code",
   "execution_count": 5,
   "id": "294849ac",
   "metadata": {},
   "outputs": [],
   "source": [
    "data\n",
    "np.random.shuffle(data)"
   ]
  },
  {
   "cell_type": "code",
   "execution_count": 6,
   "id": "4896472e",
   "metadata": {},
   "outputs": [
    {
     "name": "stdout",
     "output_type": "stream",
     "text": [
      "(785, 42000)\n"
     ]
    }
   ],
   "source": [
    "data=data.T\n",
    "print(data.shape)"
   ]
  },
  {
   "cell_type": "code",
   "execution_count": 7,
   "id": "3d41fb6e",
   "metadata": {},
   "outputs": [
    {
     "data": {
      "text/plain": [
       "array([[3, 8, 6, ..., 9, 5, 2],\n",
       "       [0, 0, 0, ..., 0, 0, 0],\n",
       "       [0, 0, 0, ..., 0, 0, 0],\n",
       "       ...,\n",
       "       [0, 0, 0, ..., 0, 0, 0],\n",
       "       [0, 0, 0, ..., 0, 0, 0],\n",
       "       [0, 0, 0, ..., 0, 0, 0]], dtype=int64)"
      ]
     },
     "execution_count": 7,
     "metadata": {},
     "output_type": "execute_result"
    }
   ],
   "source": [
    "data"
   ]
  },
  {
   "cell_type": "code",
   "execution_count": 8,
   "id": "fbd33d06",
   "metadata": {},
   "outputs": [
    {
     "name": "stdout",
     "output_type": "stream",
     "text": [
      "[3 8 6 ... 9 5 2]\n"
     ]
    }
   ],
   "source": [
    "y=data[0]\n",
    "print(y)"
   ]
  },
  {
   "cell_type": "code",
   "execution_count": 9,
   "id": "071ab81e",
   "metadata": {},
   "outputs": [
    {
     "name": "stdout",
     "output_type": "stream",
     "text": [
      "42000 785\n"
     ]
    }
   ],
   "source": [
    "print(m,n)\n",
    "x=data[1:]\n",
    "x=x/255."
   ]
  },
  {
   "cell_type": "code",
   "execution_count": 10,
   "id": "a15afc4b",
   "metadata": {},
   "outputs": [
    {
     "data": {
      "text/plain": [
       "array([[0., 0., 0., ..., 0., 0., 0.],\n",
       "       [0., 0., 0., ..., 0., 0., 0.],\n",
       "       [0., 0., 0., ..., 0., 0., 0.],\n",
       "       ...,\n",
       "       [0., 0., 0., ..., 0., 0., 0.],\n",
       "       [0., 0., 0., ..., 0., 0., 0.],\n",
       "       [0., 0., 0., ..., 0., 0., 0.]])"
      ]
     },
     "execution_count": 10,
     "metadata": {},
     "output_type": "execute_result"
    }
   ],
   "source": [
    "x"
   ]
  },
  {
   "cell_type": "raw",
   "id": "b9e17316",
   "metadata": {},
   "source": [
    "- Input Layer: 784 input features (e.g., flattened 28x28 image for digit recognition)\n",
    "# - Hidden Layer 1: 10 neurons, each connected to the input layer\n",
    "#     - Weights: W1 with shape (10, 784)\n",
    "#     - Biases: b1 with shape (10, 1)\n",
    "# - Output Layer: 10 neurons, each corresponding to one of the 10 possible classes (e.g., digits 0-9)\n",
    "#     - Weights: W2 with shape (10, 10)\n",
    "#     - Biases: b2 with shape (10, 1)"
   ]
  },
  {
   "cell_type": "code",
   "execution_count": 11,
   "id": "6e365b78",
   "metadata": {},
   "outputs": [],
   "source": [
    "def init():\n",
    "    W1=np.random.rand(10,784)-0.5\n",
    "    b1=np.random.rand(10,1)-0.5\n",
    "    W2=np.random.rand(10,10)-0.5\n",
    "    b2=np.random.rand(10,1)-0.5\n",
    "    return W1,b1,W2,b2\n",
    "def ReLu(Z):\n",
    "    return np.maximum(Z,0)\n",
    "def SoftMax(Z):\n",
    "    v=np.exp(Z) / sum(np.exp(Z))\n",
    "    return v\n",
    "def ReLu_deriv(Z):\n",
    "    return Z>0\n",
    "def forward_propagation(x,W1,b1,W2,b2):\n",
    "    Z1=W1.dot(x)+b1\n",
    "    A1=ReLu(Z1)\n",
    "    Z2=W2.dot(A1)+b2\n",
    "    A2=SoftMax(Z2)\n",
    "    return Z1,Z2,A1,A2\n",
    "def one_hot(Y):\n",
    "    one_hot_Y=np.zeros((Y.size,Y.max()+1))\n",
    "    one_hot_Y[np.arange(Y.size),Y]=1\n",
    "    return one_hot_Y.T\n",
    "def backward_propagation(x,y,W1,W2,A1,A2,b1,b2,Z1,Z2):\n",
    "    dz2=A2-one_hot(y)\n",
    "    dw2=1/m * dz2.dot(A1.T)\n",
    "    db2=1/m * np.sum(dz2)\n",
    "    dz1=W2.T.dot(dz2)*ReLu_deriv(Z1)\n",
    "    dw1=1/m * dz1.dot(x.T)\n",
    "    db1=1/m * np.sum(dz1)\n",
    "    return dw1,dw2,db1,db2\n",
    "\n",
    "def parameters_update(dw1,dw2,db1,db2,W1,b1,W2,b2,alpha):\n",
    "    W1=W1-alpha*dw1\n",
    "    W2=W2-alpha*dw2\n",
    "    b1=b1-alpha*db1\n",
    "    b2=b2-alpha*db2\n",
    "    return W1,b1,W2,b2\n"
   ]
  },
  {
   "cell_type": "code",
   "execution_count": 12,
   "id": "e64c15a8",
   "metadata": {},
   "outputs": [],
   "source": [
    "def get_predictions(A2):\n",
    "    return np.argmax(A2, 0)\n",
    "\n",
    "def get_accuracy(predictions, Y):\n",
    "    print(predictions, Y)\n",
    "    return np.sum(predictions == Y) / Y.size\n",
    "def gradient_descent(x,y,alpha,epochs):\n",
    "    W1,b1,W2,b2=init()\n",
    "    for i in range(epochs):\n",
    "        Z1,Z2,A1,A2=forward_propagation(x,W1,b1,W2,b2)\n",
    "        dw1,dw2,db1,db2=backward_propagation(x,y,W1,W2,A1,A2,b1,b2,Z1,Z2)\n",
    "        W1,b1,W2,b2=parameters_update(dw1,dw2,db1,db2,W1,b1,W2,b2,alpha)\n",
    "        if i % 50 == 0:\n",
    "            print(\"Iteration: \", i)\n",
    "            predictions = get_predictions(A2)\n",
    "            print(get_accuracy(predictions, y))\n",
    "    return W1, b1, W2, b2\n",
    "        \n",
    "    \n",
    "    "
   ]
  },
  {
   "cell_type": "code",
   "execution_count": 13,
   "id": "7f7f0976",
   "metadata": {},
   "outputs": [
    {
     "name": "stdout",
     "output_type": "stream",
     "text": [
      "Iteration:  0\n",
      "[2 9 2 ... 2 9 3] [3 8 6 ... 9 5 2]\n",
      "0.11211904761904762\n",
      "Iteration:  50\n",
      "[3 8 6 ... 9 8 1] [3 8 6 ... 9 5 2]\n",
      "0.559404761904762\n",
      "Iteration:  100\n",
      "[3 9 6 ... 9 8 1] [3 8 6 ... 9 5 2]\n",
      "0.7163333333333334\n",
      "Iteration:  150\n",
      "[3 9 6 ... 9 5 1] [3 8 6 ... 9 5 2]\n",
      "0.7738809523809523\n",
      "Iteration:  200\n",
      "[3 9 6 ... 9 5 1] [3 8 6 ... 9 5 2]\n",
      "0.8028571428571428\n",
      "Iteration:  250\n",
      "[3 9 6 ... 9 5 1] [3 8 6 ... 9 5 2]\n",
      "0.8225476190476191\n",
      "Iteration:  300\n",
      "[3 9 6 ... 9 5 1] [3 8 6 ... 9 5 2]\n",
      "0.8357142857142857\n",
      "Iteration:  350\n",
      "[3 9 6 ... 9 5 1] [3 8 6 ... 9 5 2]\n",
      "0.8451428571428572\n",
      "Iteration:  400\n",
      "[3 9 6 ... 9 5 1] [3 8 6 ... 9 5 2]\n",
      "0.8523333333333334\n",
      "Iteration:  450\n",
      "[3 9 6 ... 9 5 1] [3 8 6 ... 9 5 2]\n",
      "0.8576904761904762\n",
      "Iteration:  500\n",
      "[3 9 6 ... 9 5 1] [3 8 6 ... 9 5 2]\n",
      "0.8623809523809524\n",
      "Iteration:  550\n",
      "[3 9 6 ... 9 5 1] [3 8 6 ... 9 5 2]\n",
      "0.8665238095238095\n",
      "Iteration:  600\n",
      "[3 9 6 ... 9 5 1] [3 8 6 ... 9 5 2]\n",
      "0.8697380952380952\n",
      "Iteration:  650\n",
      "[3 9 6 ... 9 5 1] [3 8 6 ... 9 5 2]\n",
      "0.8729285714285714\n",
      "Iteration:  700\n",
      "[3 9 6 ... 9 5 1] [3 8 6 ... 9 5 2]\n",
      "0.8758333333333334\n",
      "Iteration:  750\n",
      "[3 9 6 ... 9 5 1] [3 8 6 ... 9 5 2]\n",
      "0.8786190476190476\n"
     ]
    }
   ],
   "source": [
    "W1, b1, W2, b2 = gradient_descent(x, y, 0.10, 800)"
   ]
  },
  {
   "cell_type": "code",
   "execution_count": 18,
   "id": "2aebb4a0",
   "metadata": {},
   "outputs": [
    {
     "name": "stdout",
     "output_type": "stream",
     "text": [
      "[[-2.13704199e-01  3.10076545e-01  3.77627534e-01 ... -4.42239193e-01\n",
      "   1.80141320e-01 -4.23432645e-01]\n",
      " [-9.52677508e-02 -3.29663976e-01  3.99361218e-01 ... -3.98936987e-01\n",
      "   3.28851013e-01  1.85816474e-01]\n",
      " [-5.88015526e-02  4.25802725e-01  2.73362275e-01 ... -3.23050790e-01\n",
      "  -4.71000427e-01 -4.79615980e-02]\n",
      " ...\n",
      " [-9.93722264e-02 -4.05352605e-01  4.70341187e-01 ... -3.01760024e-01\n",
      "   1.59794811e-01  2.73954692e-01]\n",
      " [ 4.72362029e-01 -1.28063576e-01  4.68544057e-02 ...  1.14423344e-04\n",
      "   2.02878899e-01  3.53028342e-01]\n",
      " [-3.65419621e-02 -1.45949570e-01  7.13696108e-02 ...  2.05693507e-01\n",
      "  -4.10590254e-01 -1.63260273e-01]] [[0.42474881]\n",
      " [0.48030125]\n",
      " [0.68652235]\n",
      " [0.88639442]\n",
      " [0.74944377]\n",
      " [1.22783509]\n",
      " [0.71201542]\n",
      " [0.80156203]\n",
      " [0.87419979]\n",
      " [1.22008217]] [[ 1.54670858e-01  4.97457329e-01 -8.80178171e-02  3.18424473e-01\n",
      "  -3.11367485e-01 -5.59746493e-01  6.08758266e-01 -4.65711210e-01\n",
      "   2.82082176e-01 -1.57054620e-01]\n",
      " [ 1.29030762e-02 -5.41119720e-01 -1.22052714e-01  2.89738556e-01\n",
      "   1.05684990e+00 -1.77363607e-01 -4.60735753e-01 -2.60762233e-01\n",
      "  -6.68925367e-01 -2.07838977e-01]\n",
      " [ 3.58583098e-03 -1.29432595e-01 -7.64562164e-01  2.87349277e-01\n",
      "   2.93922090e-01 -6.88887311e-02  4.81865256e-01  4.52541030e-02\n",
      "   8.70815370e-02  4.04953353e-01]\n",
      " [ 6.41549753e-01 -3.80395834e-01 -3.72935653e-01  2.32248509e-01\n",
      "   1.84113611e-01  9.33484855e-04 -2.65205953e-01 -3.74883822e-01\n",
      "   3.97640484e-01  1.75885076e-01]\n",
      " [-3.53902539e-01  2.97534787e-01  2.09886454e-01  4.11037144e-01\n",
      "  -7.79850133e-01  7.09519861e-01 -4.03373599e-01 -2.80614468e-01\n",
      "  -3.61701857e-01  1.64884892e-01]\n",
      " [-2.42051573e-02 -3.37622995e-02  3.10210666e-01  9.41087414e-01\n",
      "  -2.10932427e-01 -1.09191484e-01 -1.04225997e-01 -5.11724584e-01\n",
      "   4.32895836e-01 -1.09115124e-02]\n",
      " [-6.84723787e-01  7.82590290e-01 -1.84321260e-02  1.48240640e-01\n",
      "  -5.88354249e-02 -1.39875859e-01 -1.93563052e-01  7.06060585e-02\n",
      "   7.79377810e-02  6.99335033e-01]\n",
      " [ 1.14334226e+00  2.43627398e-01  1.17798434e-01  1.23882879e-01\n",
      "  -3.15959020e-01 -1.34886193e-01 -2.09754050e-01  1.77395166e-01\n",
      "  -8.10618111e-01 -1.03786858e-01]\n",
      " [-1.33884972e-01 -2.76781861e-01  2.10283457e-01 -3.64877621e-01\n",
      "   1.55663623e-01  3.45899008e-01  9.17148815e-02 -3.21782410e-01\n",
      "  -1.28039945e-01 -3.26470158e-01]\n",
      " [ 4.62982348e-01 -2.51370982e-01  3.85827648e-01  2.25359227e-01\n",
      "  -6.10001841e-01  4.05172521e-01 -1.27507668e-01 -3.13178453e-01\n",
      "  -6.69915269e-01  3.94071085e-01]] [[-0.46305846]\n",
      " [-0.06355924]\n",
      " [ 0.13282554]\n",
      " [ 0.18937725]\n",
      " [ 0.0234653 ]\n",
      " [ 0.40974038]\n",
      " [-0.32948711]\n",
      " [-0.34890614]\n",
      " [ 0.31096392]\n",
      " [-0.0034002 ]]\n"
     ]
    }
   ],
   "source": [
    "print(W1, b1, W2, b2)"
   ]
  },
  {
   "cell_type": "code",
   "execution_count": 14,
   "id": "1759b341",
   "metadata": {},
   "outputs": [],
   "source": [
    "def make_predictions(X, W1, b1, W2, b2):\n",
    "    _, _, _, A2 = forward_propagation(X,W1, b1, W2, b2)\n",
    "    predictions = get_predictions(A2)\n",
    "    return predictions\n",
    "\n",
    "def test_prediction(index, W1, b1, W2, b2):\n",
    "    current_image = x[:, index, None]\n",
    "    prediction = make_predictions(x[:, index, None], W1, b1, W2, b2)\n",
    "    label = y[index]\n",
    "    print(\"Prediction: \", prediction)\n",
    "    print(\"Label: \", label)\n",
    "    \n",
    "    current_image = current_image.reshape((28, 28)) * 255\n",
    "    plt.gray()\n",
    "    plt.imshow(current_image, interpolation='nearest')\n",
    "    plt.show()"
   ]
  },
  {
   "cell_type": "code",
   "execution_count": 17,
   "id": "47fddf9d",
   "metadata": {},
   "outputs": [
    {
     "name": "stdout",
     "output_type": "stream",
     "text": [
      "Prediction:  [3]\n",
      "Label:  3\n"
     ]
    },
    {
     "data": {
      "image/png": "[encoded data removed]",
      "text/plain": [
       "<Figure size 640x480 with 1 Axes>"
      ]
     },
     "metadata": {},
     "output_type": "display_data"
    },
    {
     "name": "stdout",
     "output_type": "stream",
     "text": [
      "Prediction:  [3]\n",
      "Label:  3\n"
     ]
    },
    {
     "data": {
      "image/png": "[encoded data removed]",
      "text/plain": [
       "<Figure size 640x480 with 1 Axes>"
      ]
     },
     "metadata": {},
     "output_type": "display_data"
    },
    {
     "name": "stdout",
     "output_type": "stream",
     "text": [
      "Prediction:  [6]\n",
      "Label:  6\n"
     ]
    },
    {
     "data": {
      "image/png": "[encoded data removed]",
      "text/plain": [
       "<Figure size 640x480 with 1 Axes>"
      ]
     },
     "metadata": {},
     "output_type": "display_data"
    },
    {
     "name": "stdout",
     "output_type": "stream",
     "text": [
      "Prediction:  [1]\n",
      "Label:  1\n"
     ]
    },
    {
     "data": {
      "image/png": "[encoded data removed]",
      "text/plain": [
       "<Figure size 640x480 with 1 Axes>"
      ]
     },
     "metadata": {},
     "output_type": "display_data"
    }
   ],
   "source": [
    "test_prediction(0, W1, b1, W2, b2)\n",
    "test_prediction(9, W1, b1, W2, b2)\n",
    "test_prediction(2, W1, b1, W2, b2)\n",
    "test_prediction(5, W1, b1, W2, b2)"
   ]
  },
  {
   "cell_type": "code",
   "execution_count": null,
   "id": "f54147a4",
   "metadata": {},
   "outputs": [],
   "source": []
  },
  {
   "cell_type": "code",
   "execution_count": null,
   "id": "3b5af54e",
   "metadata": {},
   "outputs": [],
   "source": []
  },
  {
   "cell_type": "code",
   "execution_count": null,
   "id": "0a57b864",
   "metadata": {},
   "outputs": [],
   "source": []
  },
  {
   "cell_type": "code",
   "execution_count": null,
   "id": "6528ee32",
   "metadata": {},
   "outputs": [],
   "source": []
  },
  {
   "cell_type": "code",
   "execution_count": null,
   "id": "e95a64e8",
   "metadata": {},
   "outputs": [],
   "source": []
  },
  {
   "cell_type": "code",
   "execution_count": null,
   "id": "95d4f37d",
   "metadata": {},
   "outputs": [],
   "source": []
  },
  {
   "cell_type": "code",
   "execution_count": null,
   "id": "8ac5fad0",
   "metadata": {},
   "outputs": [],
   "source": []
  },
  {
   "cell_type": "code",
   "execution_count": null,
   "id": "dc7f22f9",
   "metadata": {},
   "outputs": [],
   "source": []
  },
  {
   "cell_type": "code",
   "execution_count": null,
   "id": "0a0c4514",
   "metadata": {},
   "outputs": [],
   "source": []
  },
  {
   "cell_type": "code",
   "execution_count": null,
   "id": "ad91019f",
   "metadata": {},
   "outputs": [],
   "source": []
  },
  {
   "cell_type": "code",
   "execution_count": null,
   "id": "f277f9e9",
   "metadata": {},
   "outputs": [],
   "source": []
  }
 ],
 "metadata": {
  "kernelspec": {
   "display_name": "Python 3 (ipykernel)",
   "language": "python",
   "name": "python3"
  },
  "language_info": {
   "codemirror_mode": {
    "name": "ipython",
    "version": 3
   },
   "file_extension": ".py",
   "mimetype": "text/x-python",
   "name": "python",
   "nbconvert_exporter": "python",
   "pygments_lexer": "ipython3",
   "version": "3.11.5"
  }
 },
 "nbformat": 4,
 "nbformat_minor": 5
}
